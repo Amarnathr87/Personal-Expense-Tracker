{
 "cells": [
  {
   "cell_type": "code",
   "execution_count": 2,
   "id": "caee816f-b725-415d-88c8-53040c34d52e",
   "metadata": {},
   "outputs": [
    {
     "name": "stdout",
     "output_type": "stream",
     "text": [
      "Expenses loaded from expenses.csv.\n",
      "\n",
      "Personal Expense Tracker\n",
      "1. Add Expense\n",
      "2. View Expenses\n",
      "3. Set Budget\n",
      "4. Track Budget\n",
      "5. Save Expenses\n",
      "6. Exit\n"
     ]
    },
    {
     "name": "stdin",
     "output_type": "stream",
     "text": [
      "Enter your choice (1-6):  2\n"
     ]
    },
    {
     "name": "stdout",
     "output_type": "stream",
     "text": [
      "Date\t\tCategory\tAmount\tDescription\n",
      "--------------------------------------------------\n",
      "2024-11-02\tTravel\t$100.00\tTo Dubai from Abudhabi\n",
      "2024-11-02\tMovie\t$100.00\tAmaran Movie in Burjuman\n",
      "2024-11-02\tFood\t$50.00\tDinner in Abudhabi\n",
      "\n",
      "Personal Expense Tracker\n",
      "1. Add Expense\n",
      "2. View Expenses\n",
      "3. Set Budget\n",
      "4. Track Budget\n",
      "5. Save Expenses\n",
      "6. Exit\n"
     ]
    },
    {
     "name": "stdin",
     "output_type": "stream",
     "text": [
      "Enter your choice (1-6):  4\n"
     ]
    },
    {
     "name": "stdout",
     "output_type": "stream",
     "text": [
      "Budget is not set. Please set the budget first.\n",
      "\n",
      "Personal Expense Tracker\n",
      "1. Add Expense\n",
      "2. View Expenses\n",
      "3. Set Budget\n",
      "4. Track Budget\n",
      "5. Save Expenses\n",
      "6. Exit\n"
     ]
    },
    {
     "name": "stdin",
     "output_type": "stream",
     "text": [
      "Enter your choice (1-6):  3\n",
      "Enter your monthly budget:  500\n"
     ]
    },
    {
     "name": "stdout",
     "output_type": "stream",
     "text": [
      "Budget set to $500.00.\n",
      "\n",
      "Personal Expense Tracker\n",
      "1. Add Expense\n",
      "2. View Expenses\n",
      "3. Set Budget\n",
      "4. Track Budget\n",
      "5. Save Expenses\n",
      "6. Exit\n"
     ]
    },
    {
     "name": "stdin",
     "output_type": "stream",
     "text": [
      "Enter your choice (1-6):  4\n"
     ]
    },
    {
     "name": "stdout",
     "output_type": "stream",
     "text": [
      "Total spent: $250.00\n",
      "You have $250.00 left for the month.\n",
      "\n",
      "Personal Expense Tracker\n",
      "1. Add Expense\n",
      "2. View Expenses\n",
      "3. Set Budget\n",
      "4. Track Budget\n",
      "5. Save Expenses\n",
      "6. Exit\n"
     ]
    },
    {
     "name": "stdin",
     "output_type": "stream",
     "text": [
      "Enter your choice (1-6):  1\n",
      "Enter the date (YYYY-MM-DD):  2024-11-02\n",
      "Enter the category (e.g., Food, Travel):  Hotel Stay\n",
      "Enter the amount spent:  300\n",
      "Enter a brief description:  Stay in Discovery Gardens Furjan\n"
     ]
    },
    {
     "name": "stdout",
     "output_type": "stream",
     "text": [
      "Expense added successfully.\n",
      "\n",
      "Personal Expense Tracker\n",
      "1. Add Expense\n",
      "2. View Expenses\n",
      "3. Set Budget\n",
      "4. Track Budget\n",
      "5. Save Expenses\n",
      "6. Exit\n"
     ]
    },
    {
     "name": "stdin",
     "output_type": "stream",
     "text": [
      "Enter your choice (1-6):  4\n"
     ]
    },
    {
     "name": "stdout",
     "output_type": "stream",
     "text": [
      "Total spent: $550.00\n",
      "Warning: You have exceeded your budget!\n",
      "\n",
      "Personal Expense Tracker\n",
      "1. Add Expense\n",
      "2. View Expenses\n",
      "3. Set Budget\n",
      "4. Track Budget\n",
      "5. Save Expenses\n",
      "6. Exit\n"
     ]
    },
    {
     "name": "stdin",
     "output_type": "stream",
     "text": [
      "Enter your choice (1-6):  2\n"
     ]
    },
    {
     "name": "stdout",
     "output_type": "stream",
     "text": [
      "Date\t\tCategory\tAmount\tDescription\n",
      "--------------------------------------------------\n",
      "2024-11-02\tTravel\t$100.00\tTo Dubai from Abudhabi\n",
      "2024-11-02\tMovie\t$100.00\tAmaran Movie in Burjuman\n",
      "2024-11-02\tFood\t$50.00\tDinner in Abudhabi\n",
      "2024-11-02\tHotel Stay\t$300.00\tStay in Discovery Gardens Furjan\n",
      "\n",
      "Personal Expense Tracker\n",
      "1. Add Expense\n",
      "2. View Expenses\n",
      "3. Set Budget\n",
      "4. Track Budget\n",
      "5. Save Expenses\n",
      "6. Exit\n"
     ]
    },
    {
     "name": "stdin",
     "output_type": "stream",
     "text": [
      "Enter your choice (1-6):  4\n"
     ]
    },
    {
     "name": "stdout",
     "output_type": "stream",
     "text": [
      "Total spent: $550.00\n",
      "Warning: You have exceeded your budget!\n",
      "\n",
      "Personal Expense Tracker\n",
      "1. Add Expense\n",
      "2. View Expenses\n",
      "3. Set Budget\n",
      "4. Track Budget\n",
      "5. Save Expenses\n",
      "6. Exit\n"
     ]
    },
    {
     "name": "stdin",
     "output_type": "stream",
     "text": [
      "Enter your choice (1-6):  5\n"
     ]
    },
    {
     "name": "stdout",
     "output_type": "stream",
     "text": [
      "Expenses saved to expenses.csv.\n",
      "\n",
      "Personal Expense Tracker\n",
      "1. Add Expense\n",
      "2. View Expenses\n",
      "3. Set Budget\n",
      "4. Track Budget\n",
      "5. Save Expenses\n",
      "6. Exit\n"
     ]
    },
    {
     "name": "stdin",
     "output_type": "stream",
     "text": [
      "Enter your choice (1-6):  6\n"
     ]
    },
    {
     "name": "stdout",
     "output_type": "stream",
     "text": [
      "Expenses saved to expenses.csv.\n",
      "Exiting the program. Goodbye!\n"
     ]
    }
   ],
   "source": [
    "import csv  # Importing the csv module to read and write CSV files\n",
    "\n",
    "# Global list to store all expense records\n",
    "expenses = []\n",
    "# Variable to store the user's monthly budget\n",
    "monthly_budget = 0.0\n",
    "\n",
    "# Function to add a new expense\n",
    "def add_expense():\n",
    "    # Prompt the user for the date of the expense\n",
    "    date = input(\"Enter the date (YYYY-MM-DD): \")\n",
    "    # Ask for the category of the expense, such as Food or Travel\n",
    "    category = input(\"Enter the category (e.g., Food, Travel): \")\n",
    "    # Ask for the amount spent\n",
    "    amount = float(input(\"Enter the amount spent: \"))\n",
    "    # Ask for a brief description of the expense\n",
    "    description = input(\"Enter a brief description: \")\n",
    "    \n",
    "    # Create a dictionary to hold all details of this expense\n",
    "    expense = {\n",
    "        'date': date,\n",
    "        'category': category,\n",
    "        'amount': amount,\n",
    "        'description': description\n",
    "    }\n",
    "    # Append the expense dictionary to the list of expenses\n",
    "    expenses.append(expense)\n",
    "    print(\"Expense added successfully.\")\n",
    "\n",
    "# Function to view all recorded expenses\n",
    "def view_expenses():\n",
    "    # Print the table headers\n",
    "    print(\"Date\\t\\tCategory\\tAmount\\tDescription\")\n",
    "    print(\"-\" * 50)\n",
    "    # Loop through each expense in the expenses list\n",
    "    for expense in expenses:\n",
    "        # Check that all fields in the expense dictionary have values\n",
    "        if all(expense.values()):\n",
    "            # Print each field in the expense in a formatted way\n",
    "            print(f\"{expense['date']}\\t{expense['category']}\\t${expense['amount']:.2f}\\t{expense['description']}\")\n",
    "        else:\n",
    "            # Message to indicate an incomplete entry\n",
    "            print(\"Incomplete entry found. Skipping...\")\n",
    "\n",
    "# Function to set the monthly budget\n",
    "def set_budget():\n",
    "    global monthly_budget  # Make sure we're updating the global variable\n",
    "    monthly_budget = float(input(\"Enter your monthly budget: \"))\n",
    "    print(f\"Budget set to ${monthly_budget:.2f}.\")\n",
    "\n",
    "# Function to track the budget without requiring the user to set it each time\n",
    "def track_budget():\n",
    "    if monthly_budget == 0.0:\n",
    "        print(\"Budget is not set. Please set the budget first.\")\n",
    "    else:\n",
    "        # Calculate the total amount spent so far by summing amounts in expenses\n",
    "        total_spent = sum(expense['amount'] for expense in expenses)\n",
    "        # Calculate the remaining balance by subtracting total spent from the budget\n",
    "        remaining_balance = monthly_budget - total_spent\n",
    "        # Print the total amount spent\n",
    "        print(f\"Total spent: ${total_spent:.2f}\")\n",
    "        # Check if the total spent exceeds the monthly budget\n",
    "        if total_spent > monthly_budget:\n",
    "            print(\"Warning: You have exceeded your budget!\")\n",
    "        else:\n",
    "            # Show the remaining balance if budget is not exceeded\n",
    "            print(f\"You have ${remaining_balance:.2f} left for the month.\")\n",
    "\n",
    "# Function to save all expenses to a CSV file\n",
    "def save_expenses():\n",
    "    # Open 'expenses.csv' in write mode\n",
    "    with open('expenses.csv', mode='w', newline='') as file:\n",
    "        # Define the CSV writer with headers for each column\n",
    "        writer = csv.writer(file)\n",
    "        writer.writerow(['Date', 'Category', 'Amount', 'Description'])\n",
    "        # Write each expense as a row in the CSV file\n",
    "        for expense in expenses:\n",
    "            writer.writerow([expense['date'], expense['category'], expense['amount'], expense['description']])\n",
    "    print(\"Expenses saved to expenses.csv.\")\n",
    "\n",
    "# Function to load expenses from a CSV file at the start of the program\n",
    "def load_expenses():\n",
    "    try:\n",
    "        # Open 'expenses.csv' in read mode\n",
    "        with open('expenses.csv', mode='r') as file:\n",
    "            # Read the CSV data into a dictionary format\n",
    "            reader = csv.DictReader(file)\n",
    "            # Loop through each row in the CSV file and add it to expenses\n",
    "            for row in reader:\n",
    "                expenses.append({\n",
    "                    'date': row['Date'],\n",
    "                    'category': row['Category'],\n",
    "                    'amount': float(row['Amount']),\n",
    "                    'description': row['Description']\n",
    "                })\n",
    "        print(\"Expenses loaded from expenses.csv.\")\n",
    "    except FileNotFoundError:\n",
    "        # Message if no saved expenses file is found\n",
    "        print(\"No saved expenses found. Starting fresh.\")\n",
    "\n",
    "# Function to display the interactive menu options\n",
    "def display_menu():\n",
    "    # Display the options for the expense tracker\n",
    "    print(\"\\nPersonal Expense Tracker\")\n",
    "    print(\"1. Add Expense\")\n",
    "    print(\"2. View Expenses\")\n",
    "    print(\"3. Set Budget\")\n",
    "    print(\"4. Track Budget\")\n",
    "    print(\"5. Save Expenses\")\n",
    "    print(\"6. Exit\")\n",
    "    \n",
    "    # Prompt user for their choice and return it\n",
    "    choice = input(\"Enter your choice (1-6): \")\n",
    "    return choice\n",
    "\n",
    "# Main function to control the flow of the program\n",
    "def main():\n",
    "    # Load expenses from file when the program starts\n",
    "    load_expenses()\n",
    "    \n",
    "    # Loop until the user chooses to exit\n",
    "    while True:\n",
    "        # Show the menu and get the user's choice\n",
    "        choice = display_menu()\n",
    "        # Call the appropriate function based on the user's choice\n",
    "        if choice == '1':\n",
    "            add_expense()\n",
    "        elif choice == '2':\n",
    "            view_expenses()\n",
    "        elif choice == '3':\n",
    "            set_budget()\n",
    "        elif choice == '4':\n",
    "            track_budget()\n",
    "        elif choice == '5':\n",
    "            save_expenses()\n",
    "        elif choice == '6':\n",
    "            # Save expenses before exiting\n",
    "            save_expenses()\n",
    "            print(\"Exiting the program. Goodbye!\")\n",
    "            break\n",
    "        else:\n",
    "            # Message for invalid choices\n",
    "            print(\"Invalid choice. Please try again.\")\n",
    "\n",
    "# Run the main function if this file is executed\n",
    "if __name__ == \"__main__\":\n",
    "    main()\n"
   ]
  },
  {
   "cell_type": "code",
   "execution_count": null,
   "id": "f3c77984-ef39-4b88-b2a1-6aa171f1da1e",
   "metadata": {},
   "outputs": [],
   "source": []
  },
  {
   "cell_type": "code",
   "execution_count": null,
   "id": "25fa9e61-6935-4226-b8a0-bc634fc15d1b",
   "metadata": {},
   "outputs": [],
   "source": []
  }
 ],
 "metadata": {
  "kernelspec": {
   "display_name": "Python 3 (ipykernel)",
   "language": "python",
   "name": "python3"
  },
  "language_info": {
   "codemirror_mode": {
    "name": "ipython",
    "version": 3
   },
   "file_extension": ".py",
   "mimetype": "text/x-python",
   "name": "python",
   "nbconvert_exporter": "python",
   "pygments_lexer": "ipython3",
   "version": "3.12.4"
  }
 },
 "nbformat": 4,
 "nbformat_minor": 5
}
